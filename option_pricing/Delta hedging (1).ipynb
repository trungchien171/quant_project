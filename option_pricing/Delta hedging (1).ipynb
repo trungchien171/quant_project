{
 "cells": [
  {
   "cell_type": "markdown",
   "id": "4e14cd66-5e84-4bb9-9b68-caf7169a401d",
   "metadata": {
    "tags": []
   },
   "source": [
    "## Dynamic Delta Hedging Framework\n",
    "\n",
    "#### Introduction\n",
    "\n",
    "Dynamic delta hedging is a complex process influenced by stochastic factors such as noise (volatility) and drift (trend) in asset price movements. This framework aims to optimize delta hedging by targeting the Sharpe Ratio, balancing between P&L variance and option book returns."
   ]
  },
  {
   "cell_type": "markdown",
   "id": "fdf067b8-7895-42d5-ab3a-1f0fb0037183",
   "metadata": {},
   "source": [
    "#### Assumptions\n",
    "\n",
    "##### Asset Price Dynamics:\n",
    "\n",
    "Financial assets (currencies, interest rates, equities, etc.) follow a stochastic process characterized by:\n",
    "Noise (Volatility)\n",
    "Drift (Trend)\n",
    "\n",
    "##### Regime Characterization:\n",
    "\n",
    "We simplify the asset dynamics by assuming two regimes for each factor (Volatility and Drift):\n",
    "Low Volatility / High Volatility\n",
    "Low Drift / High Drift\n",
    "This results in a 2x2 matrix of possible states."
   ]
  },
  {
   "cell_type": "markdown",
   "id": "28768ec3-d017-47aa-a7b5-27e32c348e25",
   "metadata": {},
   "source": [
    "### Regime Determination\n",
    "\n",
    "To identify the current regime, we apply decision rules based on volatility and trend.\n",
    "\n",
    "##### 1. Volatility Regime\n",
    "Objective: Determine whether we are in a high or low volatility state.\n",
    "Method: Compare realized short-dated volatility (1-2 days) to longer-term historical volatility (1 month).\n",
    "Decision Rule:\n",
    "High Volatility: If 2-day realized volatility > (1-month volatility + threshold * standard deviation)\n",
    "Low Volatility: Otherwise\n",
    "Note: The threshold is a key parameter affecting signal sensitivity.\n",
    "\n",
    "#### 2. Trend Regime\n",
    "Objective: Measure the persistence of the trend (mean-reversion vs. trend-following).\n",
    "Method: Use the Variance Ratio (VR), comparing high-frequency realized variance to close-close realized variance.\n",
    "\n",
    "#### Decision Rule:\n",
    "High Trend: If VR < threshold (implies trend-following behavior)\n",
    "Mean-Reversion: Otherwise\n",
    "\n",
    "#### Note: Selection of the VR threshold is crucial for determining the trend regime."
   ]
  },
  {
   "cell_type": "markdown",
   "id": "148d279e-fc54-4c3b-9360-add5da1e1e60",
   "metadata": {},
   "source": [
    "### Hedging Strategies\n",
    "\n",
    "Based on the identified regimes, the following hedging strategies can be applied:\n",
    "\n",
    "#### 1. Hedging as a Function of Time\n",
    "Description: Hedge at regular time intervals, independent of underlying asset dynamics.\n",
    "Use Case: Simple strategy often used in practice, but it does not account for intraday dynamics.\n",
    "#### 2. Hedging as a Function of % Change in the Underlying Asset\n",
    "Description: Hedge based on the percentage movement of the underlying asset.\n",
    "Use Case: More dynamic, but the $delta can vary significantly based on the gamma profile and proximity to strike price.\n",
    "#### 3. Hedging as a Function of Accumulated Delta\n",
    "Description: Hedge based on the accumulated delta since the last hedge.\n",
    "Use Case: This strategy adjusts hedging frequency based on the gamma/delta profile, hedging more frequently near strikes and closer to expiration."
   ]
  },
  {
   "cell_type": "markdown",
   "id": "123e9b3e-6659-4b8d-b94c-19e3fb6ec43b",
   "metadata": {},
   "source": [
    "### Hedging Scheme Implementation\n",
    "\n",
    "Based on the identified volatility and trend regimes, select the appropriate hedging strategy:\n",
    "\n",
    "#### a. Low Volatility / Low Drift\n",
    "Strategy: Hedge frequently using delta or % change-based strategies, depending on the proximity to strike and gamma profile.\n",
    "\n",
    "#### b. Low Volatility / High Drift\n",
    "Strategy: Hedge less frequently to capture the trend. Consider a time-based or % change strategy with a sufficient threshold.\n",
    "\n",
    "#### c. High Volatility / Low Drift\n",
    "Strategy: Hedge frequently using delta-based strategy with a higher volatility assumption.\n",
    "\n",
    "#### d. High Volatility / High Drift\n",
    "Strategy: Hedge less frequently, allowing the delta to run while setting a high volatility parameter."
   ]
  },
  {
   "cell_type": "markdown",
   "id": "416ff8f6-1bd3-433d-aa53-c234b2b0c31e",
   "metadata": {},
   "source": [
    "#### Step 1: Importing Libraries"
   ]
  },
  {
   "cell_type": "code",
   "execution_count": 8,
   "id": "717f36b3-8047-4431-86c9-e030f912729e",
   "metadata": {
    "tags": []
   },
   "outputs": [],
   "source": [
    "import numpy as np\n",
    "import pandas as pd\n",
    "import matplotlib.pyplot as plt\n",
    "import yfinance as yf"
   ]
  },
  {
   "cell_type": "markdown",
   "id": "f60c6a53-7b9a-4c7e-ba14-6c28962f01ec",
   "metadata": {},
   "source": [
    "#### Step 2: Data Preparation"
   ]
  },
  {
   "cell_type": "code",
   "execution_count": 9,
   "id": "1fecf720-007a-4d0f-95a7-4788f8187b5f",
   "metadata": {
    "tags": []
   },
   "outputs": [
    {
     "name": "stderr",
     "output_type": "stream",
     "text": [
      "[*********************100%%**********************]  1 of 1 completed\n"
     ]
    },
    {
     "data": {
      "text/html": [
       "<div>\n",
       "<style scoped>\n",
       "    .dataframe tbody tr th:only-of-type {\n",
       "        vertical-align: middle;\n",
       "    }\n",
       "\n",
       "    .dataframe tbody tr th {\n",
       "        vertical-align: top;\n",
       "    }\n",
       "\n",
       "    .dataframe thead th {\n",
       "        text-align: right;\n",
       "    }\n",
       "</style>\n",
       "<table border=\"1\" class=\"dataframe\">\n",
       "  <thead>\n",
       "    <tr style=\"text-align: right;\">\n",
       "      <th></th>\n",
       "      <th>Open</th>\n",
       "      <th>High</th>\n",
       "      <th>Low</th>\n",
       "      <th>Close</th>\n",
       "      <th>Adj Close</th>\n",
       "      <th>Volume</th>\n",
       "    </tr>\n",
       "    <tr>\n",
       "      <th>Date</th>\n",
       "      <th></th>\n",
       "      <th></th>\n",
       "      <th></th>\n",
       "      <th></th>\n",
       "      <th></th>\n",
       "      <th></th>\n",
       "    </tr>\n",
       "  </thead>\n",
       "  <tbody>\n",
       "    <tr>\n",
       "      <th>2023-01-03</th>\n",
       "      <td>384.369995</td>\n",
       "      <td>386.429993</td>\n",
       "      <td>377.829987</td>\n",
       "      <td>380.820007</td>\n",
       "      <td>370.367889</td>\n",
       "      <td>74850700</td>\n",
       "    </tr>\n",
       "    <tr>\n",
       "      <th>2023-01-04</th>\n",
       "      <td>383.179993</td>\n",
       "      <td>385.880005</td>\n",
       "      <td>380.000000</td>\n",
       "      <td>383.760010</td>\n",
       "      <td>373.227173</td>\n",
       "      <td>85934100</td>\n",
       "    </tr>\n",
       "    <tr>\n",
       "      <th>2023-01-05</th>\n",
       "      <td>381.720001</td>\n",
       "      <td>381.839996</td>\n",
       "      <td>378.760010</td>\n",
       "      <td>379.380005</td>\n",
       "      <td>368.967377</td>\n",
       "      <td>76970500</td>\n",
       "    </tr>\n",
       "    <tr>\n",
       "      <th>2023-01-06</th>\n",
       "      <td>382.609985</td>\n",
       "      <td>389.250000</td>\n",
       "      <td>379.410004</td>\n",
       "      <td>388.079987</td>\n",
       "      <td>377.428619</td>\n",
       "      <td>104189600</td>\n",
       "    </tr>\n",
       "    <tr>\n",
       "      <th>2023-01-09</th>\n",
       "      <td>390.369995</td>\n",
       "      <td>393.700012</td>\n",
       "      <td>387.670013</td>\n",
       "      <td>387.859985</td>\n",
       "      <td>377.214661</td>\n",
       "      <td>73978100</td>\n",
       "    </tr>\n",
       "    <tr>\n",
       "      <th>...</th>\n",
       "      <td>...</td>\n",
       "      <td>...</td>\n",
       "      <td>...</td>\n",
       "      <td>...</td>\n",
       "      <td>...</td>\n",
       "      <td>...</td>\n",
       "    </tr>\n",
       "    <tr>\n",
       "      <th>2023-12-22</th>\n",
       "      <td>473.859985</td>\n",
       "      <td>475.380005</td>\n",
       "      <td>471.700012</td>\n",
       "      <td>473.649994</td>\n",
       "      <td>467.651276</td>\n",
       "      <td>67126600</td>\n",
       "    </tr>\n",
       "    <tr>\n",
       "      <th>2023-12-26</th>\n",
       "      <td>474.070007</td>\n",
       "      <td>476.579987</td>\n",
       "      <td>473.989990</td>\n",
       "      <td>475.649994</td>\n",
       "      <td>469.625916</td>\n",
       "      <td>55387000</td>\n",
       "    </tr>\n",
       "    <tr>\n",
       "      <th>2023-12-27</th>\n",
       "      <td>475.440002</td>\n",
       "      <td>476.660004</td>\n",
       "      <td>474.890015</td>\n",
       "      <td>476.510010</td>\n",
       "      <td>470.475098</td>\n",
       "      <td>68000300</td>\n",
       "    </tr>\n",
       "    <tr>\n",
       "      <th>2023-12-28</th>\n",
       "      <td>476.880005</td>\n",
       "      <td>477.549988</td>\n",
       "      <td>476.260010</td>\n",
       "      <td>476.690002</td>\n",
       "      <td>470.652802</td>\n",
       "      <td>77158100</td>\n",
       "    </tr>\n",
       "    <tr>\n",
       "      <th>2023-12-29</th>\n",
       "      <td>476.489990</td>\n",
       "      <td>477.029999</td>\n",
       "      <td>473.299988</td>\n",
       "      <td>475.309998</td>\n",
       "      <td>469.290283</td>\n",
       "      <td>122234100</td>\n",
       "    </tr>\n",
       "  </tbody>\n",
       "</table>\n",
       "<p>250 rows × 6 columns</p>\n",
       "</div>"
      ],
      "text/plain": [
       "                  Open        High         Low       Close   Adj Close  \\\n",
       "Date                                                                     \n",
       "2023-01-03  384.369995  386.429993  377.829987  380.820007  370.367889   \n",
       "2023-01-04  383.179993  385.880005  380.000000  383.760010  373.227173   \n",
       "2023-01-05  381.720001  381.839996  378.760010  379.380005  368.967377   \n",
       "2023-01-06  382.609985  389.250000  379.410004  388.079987  377.428619   \n",
       "2023-01-09  390.369995  393.700012  387.670013  387.859985  377.214661   \n",
       "...                ...         ...         ...         ...         ...   \n",
       "2023-12-22  473.859985  475.380005  471.700012  473.649994  467.651276   \n",
       "2023-12-26  474.070007  476.579987  473.989990  475.649994  469.625916   \n",
       "2023-12-27  475.440002  476.660004  474.890015  476.510010  470.475098   \n",
       "2023-12-28  476.880005  477.549988  476.260010  476.690002  470.652802   \n",
       "2023-12-29  476.489990  477.029999  473.299988  475.309998  469.290283   \n",
       "\n",
       "               Volume  \n",
       "Date                   \n",
       "2023-01-03   74850700  \n",
       "2023-01-04   85934100  \n",
       "2023-01-05   76970500  \n",
       "2023-01-06  104189600  \n",
       "2023-01-09   73978100  \n",
       "...               ...  \n",
       "2023-12-22   67126600  \n",
       "2023-12-26   55387000  \n",
       "2023-12-27   68000300  \n",
       "2023-12-28   77158100  \n",
       "2023-12-29  122234100  \n",
       "\n",
       "[250 rows x 6 columns]"
      ]
     },
     "execution_count": 9,
     "metadata": {},
     "output_type": "execute_result"
    }
   ],
   "source": [
    "start_date = '2023-01-01'\n",
    "end_date = '2024-01-01'\n",
    "\n",
    "data = yf.download('SPY', start=start_date, end=end_date)\n",
    "data"
   ]
  },
  {
   "cell_type": "markdown",
   "id": "c89a54cc-8303-4b23-a630-f17be5e27644",
   "metadata": {},
   "source": [
    "#### Calculate returns and volatilities"
   ]
  },
  {
   "cell_type": "code",
   "execution_count": 10,
   "id": "ec9ed9c6-0d01-4bdc-a7d1-874dd3446f0e",
   "metadata": {
    "tags": []
   },
   "outputs": [],
   "source": [
    "# Calculate returns and volatilities \n",
    "data['Returns'] = data['Adj Close'].pct_change()\n",
    "data['1M_Vol'] = data['Returns'].rolling(window=21).std() * np.sqrt(252)\n",
    "data['2D_Vol'] = data['Returns'].rolling(window=2).std() * np.sqrt(252)\n",
    "data['Intraday_Vol'] = np.log(data['High'] / data['Low']).rolling(window=21).std() * np.sqrt(252)"
   ]
  },
  {
   "cell_type": "markdown",
   "id": "515a9cee-0073-4633-a633-f73b6501bc28",
   "metadata": {},
   "source": [
    "#### Step 3: Regime Classification and hedging strategy implementation"
   ]
  },
  {
   "cell_type": "code",
   "execution_count": 11,
   "id": "b9824692-63a1-4888-bb04-f6bd10dbe12d",
   "metadata": {
    "tags": []
   },
   "outputs": [],
   "source": [
    "# Regime Classification (repeating from previous steps)\n",
    "vol_threshold = 1.5\n",
    "drift_threshold = 1.2\n",
    "data['Vol_Regime'] = np.where(data['2D_Vol'] > data['1M_Vol'] * vol_threshold, 'High Vol', 'Low Vol')\n",
    "data['Variance_Ratio'] = data['Intraday_Vol'] / data['1M_Vol']\n",
    "data['Trend_Regime'] = np.where(data['Variance_Ratio'] < drift_threshold, 'High Trend', 'Low Trend')"
   ]
  },
  {
   "cell_type": "code",
   "execution_count": 12,
   "id": "cbdaa393-e860-488a-8af2-8ef46131e056",
   "metadata": {
    "tags": []
   },
   "outputs": [],
   "source": [
    "# Initialize P&L tracking variables\n",
    "data['PnL'] = 0.0\n",
    "data['Cumulative_PnL'] = 0.0\n",
    "data['Hedge_Action'] = False\n",
    "\n",
    "last_hedge_price = data['Adj Close'][0]\n",
    "accumulated_delta = 0\n",
    "threshold_delta = 0.05\n",
    "\n",
    "for i in range(1, len(data)):\n",
    "    current_price = data['Adj Close'][i]\n",
    "    previous_price = data['Adj Close'][i-1]\n",
    "    current_vol_regime = data['Vol_Regime'][i]\n",
    "    current_trend_regime = data['Trend_Regime'][i]\n",
    "\n",
    "    # Hedging strategy based on regime\n",
    "    if current_vol_regime == 'Low Vol' and current_trend_regime == 'Low Trend':\n",
    "        decision = 'Time-Based Hedging'\n",
    "        # For simplicity, let's say we hedge daily for this strategy\n",
    "        hedge_price = current_price\n",
    "    elif current_vol_regime == 'Low Vol' and current_trend_regime == 'High Trend':\n",
    "        decision = 'Percent Change-Based Hedging'\n",
    "        if abs(current_price - last_hedge_price) / last_hedge_price > 0.01:\n",
    "            hedge_price = current_price\n",
    "        else:\n",
    "            hedge_price = None\n",
    "    elif current_vol_regime == 'High Vol' and current_trend_regime == 'Low Trend':\n",
    "        decision = 'Accumulated Delta-Based Hedging'\n",
    "        accumulated_delta += np.random.randn() * 0.01  # Example delta adjustment\n",
    "        if abs(accumulated_delta) > threshold_delta:\n",
    "            hedge_price = current_price\n",
    "            accumulated_delta = 0  # Reset after hedging\n",
    "        else:\n",
    "            hedge_price = None\n",
    "    else:\n",
    "        decision = 'Custom Hedging for High Vol / High Trend'\n",
    "        hedge_price = None\n",
    "\n",
    "    # If a hedging action is taken, calculate the P&L\n",
    "    if hedge_price is not None:\n",
    "        data.at[data.index[i], 'Hedge_Action'] = True\n",
    "        # Calculate P&L: (Last hedge price - current price) * hedged quantity\n",
    "        pnl = (hedge_price - previous_price) * 1  # Assuming 1 unit hedged for simplicity\n",
    "        data.at[data.index[i], 'PnL'] = pnl\n",
    "        last_hedge_price = hedge_price\n",
    "    else:\n",
    "        data.at[data.index[i], 'PnL'] = 0.0\n",
    "\n",
    "    # Cumulative P&L\n",
    "    data.at[data.index[i], 'Cumulative_PnL'] = data['Cumulative_PnL'][i-1] + data['PnL'][i]"
   ]
  },
  {
   "cell_type": "markdown",
   "id": "0e92c3f4-713a-4e22-8402-46584b1a8f5d",
   "metadata": {},
   "source": [
    "#### Perfromance Review"
   ]
  },
  {
   "cell_type": "code",
   "execution_count": 13,
   "id": "f412b7ae-516a-465c-a382-114fafcefa26",
   "metadata": {
    "tags": []
   },
   "outputs": [
    {
     "name": "stdout",
     "output_type": "stream",
     "text": [
      "Sharpe Ratio: 1.9558493654240983\n"
     ]
    },
    {
     "data": {
      "image/png": "[encoded data removed]",
      "text/plain": [
       "<Figure size 1400x700 with 1 Axes>"
      ]
     },
     "metadata": {},
     "output_type": "display_data"
    }
   ],
   "source": [
    "# Calculate Sharpe Ratio\n",
    "average_daily_return = data['PnL'].mean()\n",
    "std_daily_return = data['PnL'].std()\n",
    "sharpe_ratio = average_daily_return / std_daily_return * np.sqrt(252)\n",
    "print(f\"Sharpe Ratio: {sharpe_ratio}\")\n",
    "\n",
    "# Plotting the results\n",
    "plt.figure(figsize=(14, 7))\n",
    "plt.plot(data.index, data['Cumulative_PnL'], label='Cumulative P&L')\n",
    "plt.scatter(data.index[data['Hedge_Action']], data['Cumulative_PnL'][data['Hedge_Action']], color='red', label='Hedge Action', marker='x')\n",
    "plt.title('Cumulative P&L and Hedging Actions')\n",
    "plt.xlabel('Date')\n",
    "plt.ylabel('Cumulative P&L')\n",
    "plt.legend()\n",
    "plt.grid(True)\n",
    "plt.show()"
   ]
  },
  {
   "cell_type": "code",
   "execution_count": null,
   "id": "09ca72a8-04a7-4a3f-a188-9b24030caa25",
   "metadata": {},
   "outputs": [],
   "source": []
  }
 ],
 "metadata": {
  "kernelspec": {
   "display_name": "qntdev",
   "language": "python",
   "name": "python3"
  },
  "language_info": {
   "codemirror_mode": {
    "name": "ipython",
    "version": 3
   },
   "file_extension": ".py",
   "mimetype": "text/x-python",
   "name": "python",
   "nbconvert_exporter": "python",
   "pygments_lexer": "ipython3",
   "version": "3.10.14"
  }
 },
 "nbformat": 4,
 "nbformat_minor": 5
}
